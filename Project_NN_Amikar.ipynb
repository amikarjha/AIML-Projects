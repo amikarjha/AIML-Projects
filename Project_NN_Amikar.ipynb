{
  "nbformat": 4,
  "nbformat_minor": 0,
  "metadata": {
    "kernelspec": {
      "name": "python2",
      "display_name": "Python 2"
    },
    "colab": {
      "name": "Project_NN_Amikar.ipynb",
      "provenance": [],
      "collapsed_sections": []
    },
    "accelerator": "GPU"
  },
  "cells": [
    {
      "cell_type": "code",
      "metadata": {
        "id": "ktRmp6U1QcM3",
        "colab_type": "code",
        "outputId": "1709c1d2-cf89-495e-966c-9372e454d153",
        "colab": {
          "base_uri": "https://localhost:8080/",
          "height": 124
        }
      },
      "source": [
        "from google.colab import drive\n",
        "drive.mount('/content/drive/')"
      ],
      "execution_count": 6,
      "outputs": [
        {
          "output_type": "stream",
          "text": [
            "Go to this URL in a browser: https://accounts.google.com/o/oauth2/auth?client_id=947318989803-6bn6qk8qdgf4n4g3pfee6491hc0brc4i.apps.googleusercontent.com&redirect_uri=urn%3aietf%3awg%3aoauth%3a2.0%3aoob&response_type=code&scope=email%20https%3a%2f%2fwww.googleapis.com%2fauth%2fdocs.test%20https%3a%2f%2fwww.googleapis.com%2fauth%2fdrive%20https%3a%2f%2fwww.googleapis.com%2fauth%2fdrive.photos.readonly%20https%3a%2f%2fwww.googleapis.com%2fauth%2fpeopleapi.readonly\n",
            "\n",
            "Enter your authorization code:\n",
            "··········\n",
            "Mounted at /content/drive/\n"
          ],
          "name": "stdout"
        }
      ]
    },
    {
      "cell_type": "markdown",
      "metadata": {
        "id": "B5sT-nFwHs9I",
        "colab_type": "text"
      },
      "source": [
        "**Importing Libraries**"
      ]
    },
    {
      "cell_type": "code",
      "metadata": {
        "id": "7cG50zJgGqfj",
        "colab_type": "code",
        "colab": {}
      },
      "source": [
        "%tensorflow_version 2.x"
      ],
      "execution_count": 0,
      "outputs": []
    },
    {
      "cell_type": "code",
      "metadata": {
        "id": "ohkdGrAzP1Ts",
        "colab_type": "code",
        "colab": {
          "base_uri": "https://localhost:8080/",
          "height": 35
        },
        "outputId": "9269606f-2b94-43a3-fcce-5bddad4a6777"
      },
      "source": [
        "import h5py\n",
        "import numpy as np\n",
        "import pandas as pd\n",
        "import matplotlib.pyplot as plt\n",
        "%matplotlib inline\n",
        "import tensorflow as tf\n",
        "import keras\n",
        "from tensorflow.keras.models import Sequential\n",
        "from tensorflow.keras.layers import Dense, BatchNormalization\n",
        "from tensorflow.keras import optimizers\n",
        "from sklearn.metrics import classification_report, confusion_matrix"
      ],
      "execution_count": 17,
      "outputs": [
        {
          "output_type": "stream",
          "text": [
            "Using TensorFlow backend.\n"
          ],
          "name": "stderr"
        }
      ]
    },
    {
      "cell_type": "markdown",
      "metadata": {
        "id": "n8qwV87AHka1",
        "colab_type": "text"
      },
      "source": [
        "**Fetching Dataset**"
      ]
    },
    {
      "cell_type": "code",
      "metadata": {
        "id": "LmbfTZz2dsJv",
        "colab_type": "code",
        "colab": {}
      },
      "source": [
        "h5f = h5py.File('/content/drive/My Drive/Project_NN/SVHN_single_grey1.h5', 'r')"
      ],
      "execution_count": 0,
      "outputs": []
    },
    {
      "cell_type": "code",
      "metadata": {
        "id": "LvzOpCzvXVaO",
        "colab_type": "code",
        "colab": {}
      },
      "source": [
        "# Load the training, test & validation set\n",
        "X_train = h5f['X_train'][:]\n",
        "X_test = h5f['X_test'][:]\n",
        "y_train = h5f['y_train'][:]\n",
        "y_test = h5f['y_test'][:]\n",
        "X_val = h5f['X_val'][:]\n",
        "y_val = h5f['y_val'][:]\n",
        "h5f.close()"
      ],
      "execution_count": 0,
      "outputs": []
    },
    {
      "cell_type": "code",
      "metadata": {
        "id": "mKHgjK4EYj8d",
        "colab_type": "code",
        "outputId": "5fa7b286-9cd2-42da-ed99-c8f543f35c62",
        "colab": {
          "base_uri": "https://localhost:8080/",
          "height": 69
        }
      },
      "source": [
        "print(y_train.view())\n",
        "print(y_test.view())\n",
        "print(y_val.view())"
      ],
      "execution_count": 20,
      "outputs": [
        {
          "output_type": "stream",
          "text": [
            "[2 6 7 ... 7 0 4]\n",
            "[1 7 2 ... 7 9 2]\n",
            "[0 0 0 ... 9 9 9]\n"
          ],
          "name": "stdout"
        }
      ]
    },
    {
      "cell_type": "code",
      "metadata": {
        "id": "vuai0UnwYq2b",
        "colab_type": "code",
        "outputId": "1935d7a9-a84e-451a-8392-2726fe49e428",
        "colab": {
          "base_uri": "https://localhost:8080/",
          "height": 121
        }
      },
      "source": [
        "print(X_train.shape)\n",
        "print(X_val.shape)\n",
        "print(X_test.shape)\n",
        "print(y_train.shape)\n",
        "print(y_val.shape)\n",
        "print(y_test.shape)"
      ],
      "execution_count": 21,
      "outputs": [
        {
          "output_type": "stream",
          "text": [
            "(42000, 32, 32)\n",
            "(60000, 32, 32)\n",
            "(18000, 32, 32)\n",
            "(42000,)\n",
            "(60000,)\n",
            "(18000,)\n"
          ],
          "name": "stdout"
        }
      ]
    },
    {
      "cell_type": "code",
      "metadata": {
        "id": "3JXfDZ7nZGpL",
        "colab_type": "code",
        "colab": {}
      },
      "source": [
        "y_train = tf.keras.utils.to_categorical(y_train,num_classes=10)\n",
        "y_val = tf.keras.utils.to_categorical(y_val,num_classes=10)\n",
        "y_test = tf.keras.utils.to_categorical(y_test,num_classes=10)"
      ],
      "execution_count": 0,
      "outputs": []
    },
    {
      "cell_type": "code",
      "metadata": {
        "id": "ou0L6HScZHjj",
        "colab_type": "code",
        "outputId": "446cc8a4-058b-4d5b-dca8-a78da9d43e86",
        "colab": {
          "base_uri": "https://localhost:8080/",
          "height": 121
        }
      },
      "source": [
        "print(y_train.shape)\n",
        "print('First 5 examples now are: ', y_train[0:5])"
      ],
      "execution_count": 23,
      "outputs": [
        {
          "output_type": "stream",
          "text": [
            "(42000, 10)\n",
            "('First 5 examples now are: ', array([[0., 0., 1., 0., 0., 0., 0., 0., 0., 0.],\n",
            "       [0., 0., 0., 0., 0., 0., 1., 0., 0., 0.],\n",
            "       [0., 0., 0., 0., 0., 0., 0., 1., 0., 0.],\n",
            "       [0., 0., 0., 0., 1., 0., 0., 0., 0., 0.],\n",
            "       [0., 0., 0., 0., 1., 0., 0., 0., 0., 0.]], dtype=float32))\n"
          ],
          "name": "stdout"
        }
      ]
    },
    {
      "cell_type": "code",
      "metadata": {
        "id": "L8iYjhFiZp9v",
        "colab_type": "code",
        "outputId": "4ac47382-a687-4bd8-b51a-e67f21e6bde4",
        "colab": {
          "base_uri": "https://localhost:8080/",
          "height": 1000
        }
      },
      "source": [
        "for i in range(10):\n",
        "    image = X_train[i]\n",
        "    plt.figure(i)\n",
        "    plt.imshow(image)"
      ],
      "execution_count": 24,
      "outputs": [
        {
          "output_type": "display_data",
          "data": {
            "image/png": "[encoded data removed]",
            "text/plain": [
              "<Figure size 432x288 with 1 Axes>"
            ]
          },
          "metadata": {
            "tags": []
          }
        },
        {
          "output_type": "display_data",
          "data": {
            "image/png": "[encoded data removed]",
            "text/plain": [
              "<Figure size 432x288 with 1 Axes>"
            ]
          },
          "metadata": {
            "tags": []
          }
        },
        {
          "output_type": "display_data",
          "data": {
            "image/png": "[encoded data removed]",
            "text/plain": [
              "<Figure size 432x288 with 1 Axes>"
            ]
          },
          "metadata": {
            "tags": []
          }
        },
        {
          "output_type": "display_data",
          "data": {
            "image/png": "[encoded data removed]",
            "text/plain": [
              "<Figure size 432x288 with 1 Axes>"
            ]
          },
          "metadata": {
            "tags": []
          }
        },
        {
          "output_type": "display_data",
          "data": {
            "image/png": "[encoded data removed]",
            "text/plain": [
              "<Figure size 432x288 with 1 Axes>"
            ]
          },
          "metadata": {
            "tags": []
          }
        },
        {
          "output_type": "display_data",
          "data": {
            "image/png": "[encoded data removed]",
            "text/plain": [
              "<Figure size 432x288 with 1 Axes>"
            ]
          },
          "metadata": {
            "tags": []
          }
        },
        {
          "output_type": "display_data",
          "data": {
            "image/png": "[encoded data removed]",
            "text/plain": [
              "<Figure size 432x288 with 1 Axes>"
            ]
          },
          "metadata": {
            "tags": []
          }
        },
        {
          "output_type": "display_data",
          "data": {
            "image/png": "[encoded data removed]",
            "text/plain": [
              "<Figure size 432x288 with 1 Axes>"
            ]
          },
          "metadata": {
            "tags": []
          }
        },
        {
          "output_type": "display_data",
          "data": {
            "image/png": "[encoded data removed]",
            "text/plain": [
              "<Figure size 432x288 with 1 Axes>"
            ]
          },
          "metadata": {
            "tags": []
          }
        },
        {
          "output_type": "display_data",
          "data": {
            "image/png": "[encoded data removed]",
            "text/plain": [
              "<Figure size 432x288 with 1 Axes>"
            ]
          },
          "metadata": {
            "tags": []
          }
        }
      ]
    },
    {
      "cell_type": "markdown",
      "metadata": {
        "id": "FyxFjN4LJhll",
        "colab_type": "text"
      },
      "source": [
        "**Neural Network (Forward prop & Back propogation)**"
      ]
    },
    {
      "cell_type": "code",
      "metadata": {
        "id": "JlNxcA_KJq8w",
        "colab_type": "code",
        "colab": {}
      },
      "source": [
        "#Initialize sequenial model\n",
        "model = Sequential()"
      ],
      "execution_count": 0,
      "outputs": []
    },
    {
      "cell_type": "code",
      "metadata": {
        "id": "wvTTdhWoJvzI",
        "colab_type": "code",
        "colab": {}
      },
      "source": [
        "#Reshape data from 2D to 1D ->32*32 to 1024\n",
        "model.add(tf.keras.layers.Reshape((1024,),input_shape=(32,32,)))"
      ],
      "execution_count": 0,
      "outputs": []
    },
    {
      "cell_type": "code",
      "metadata": {
        "id": "ECvbUo_VJ1GY",
        "colab_type": "code",
        "colab": {}
      },
      "source": [
        "#Add 1st Dense layer with 100 neurons in the hidden layer & RELU as activation function\n",
        "model.add(Dense(100,activation = 'relu'))"
      ],
      "execution_count": 0,
      "outputs": []
    },
    {
      "cell_type": "code",
      "metadata": {
        "id": "ZBEY6MzkJ6dH",
        "colab_type": "code",
        "colab": {}
      },
      "source": [
        "#Add Dense Layer which provides 10 outputs after applying softmax\n",
        "model.add(tf.keras.layers.Dense(10,activation='softmax'))"
      ],
      "execution_count": 0,
      "outputs": []
    },
    {
      "cell_type": "code",
      "metadata": {
        "id": "XeWwbfkiKGW4",
        "colab_type": "code",
        "colab": {}
      },
      "source": [
        "#Compile the model with stochastic gradient descent & cross entropy loss\n",
        "model.compile(optimizer='sgd', loss='categorical_crossentropy',  metrics = ['accuracy'])"
      ],
      "execution_count": 0,
      "outputs": []
    },
    {
      "cell_type": "code",
      "metadata": {
        "id": "ZLZQnTrWKNMB",
        "colab_type": "code",
        "colab": {
          "base_uri": "https://localhost:8080/",
          "height": 399
        },
        "outputId": "02d06eef-f768-42a4-8cf4-220ed1f9bf4c"
      },
      "source": [
        "# Execute the model\n",
        "model.fit(X_train,y_train,epochs=10,validation_data=(X_val,y_val),batch_size= 700, verbose = 1)"
      ],
      "execution_count": 30,
      "outputs": [
        {
          "output_type": "stream",
          "text": [
            "Train on 42000 samples, validate on 60000 samples\n",
            "Epoch 1/10\n",
            "42000/42000 [==============================] - 2s 59us/sample - loss: 52532.0000 - accuracy: 0.1022 - val_loss: 2.3035 - val_accuracy: 0.1000\n",
            "Epoch 2/10\n",
            "42000/42000 [==============================] - 1s 12us/sample - loss: 2.3032 - accuracy: 0.1019 - val_loss: 2.3027 - val_accuracy: 0.1000\n",
            "Epoch 3/10\n",
            "42000/42000 [==============================] - 1s 13us/sample - loss: 2.3025 - accuracy: 0.1020 - val_loss: 2.3026 - val_accuracy: 0.1001\n",
            "Epoch 4/10\n",
            "42000/42000 [==============================] - 1s 13us/sample - loss: 2.3025 - accuracy: 0.1020 - val_loss: 2.3026 - val_accuracy: 0.1001\n",
            "Epoch 5/10\n",
            "42000/42000 [==============================] - 1s 13us/sample - loss: 2.3025 - accuracy: 0.1020 - val_loss: 2.3026 - val_accuracy: 0.1001\n",
            "Epoch 6/10\n",
            "42000/42000 [==============================] - 1s 13us/sample - loss: 2.3025 - accuracy: 0.1020 - val_loss: 2.3026 - val_accuracy: 0.1001\n",
            "Epoch 7/10\n",
            "42000/42000 [==============================] - 1s 13us/sample - loss: 2.3023 - accuracy: 0.1020 - val_loss: 2.3028 - val_accuracy: 0.1001\n",
            "Epoch 8/10\n",
            "42000/42000 [==============================] - 1s 13us/sample - loss: 2.3025 - accuracy: 0.1020 - val_loss: 2.3025 - val_accuracy: 0.1001\n",
            "Epoch 9/10\n",
            "42000/42000 [==============================] - 1s 13us/sample - loss: 2.3024 - accuracy: 0.1020 - val_loss: 2.3032 - val_accuracy: 0.1002\n",
            "Epoch 10/10\n",
            "42000/42000 [==============================] - 1s 13us/sample - loss: 2.3023 - accuracy: 0.1020 - val_loss: 2.3024 - val_accuracy: 0.1001\n"
          ],
          "name": "stdout"
        },
        {
          "output_type": "execute_result",
          "data": {
            "text/plain": [
              "<tensorflow.python.keras.callbacks.History at 0x7fc71006ded0>"
            ]
          },
          "metadata": {
            "tags": []
          },
          "execution_count": 30
        }
      ]
    },
    {
      "cell_type": "markdown",
      "metadata": {
        "id": "nhaErRxPKUxM",
        "colab_type": "text"
      },
      "source": [
        "**Neural Network with Batch Normalization**"
      ]
    },
    {
      "cell_type": "code",
      "metadata": {
        "id": "PrfMdEdKKdtH",
        "colab_type": "code",
        "colab": {}
      },
      "source": [
        "#Initialize sequential model\n",
        "model = Sequential()"
      ],
      "execution_count": 0,
      "outputs": []
    },
    {
      "cell_type": "code",
      "metadata": {
        "id": "9a32DgQTKkct",
        "colab_type": "code",
        "colab": {}
      },
      "source": [
        "#Reshape data from 2D to 1D ->32*32 to 1024\n",
        "model.add(tf.keras.layers.Reshape((1024,),input_shape=(32,32,)))"
      ],
      "execution_count": 0,
      "outputs": []
    },
    {
      "cell_type": "code",
      "metadata": {
        "id": "c3Kn90WSKmNl",
        "colab_type": "code",
        "colab": {}
      },
      "source": [
        "#Normalize the data\n",
        "model.add(BatchNormalization())"
      ],
      "execution_count": 0,
      "outputs": []
    },
    {
      "cell_type": "code",
      "metadata": {
        "id": "PHMWpaG5Ks6F",
        "colab_type": "code",
        "colab": {}
      },
      "source": [
        "#Add Dense Layer which provides 100 hidden neurons for 1st layer with RELU\n",
        "model.add(Dense(100,activation='relu'))"
      ],
      "execution_count": 0,
      "outputs": []
    },
    {
      "cell_type": "code",
      "metadata": {
        "id": "SXIxmjZpMOKo",
        "colab_type": "code",
        "colab": {}
      },
      "source": [
        "#Add Dense Layer which provides 100 hidden neurons for 2nd layer with RELU\n",
        "model.add(Dense(100,activation='relu'))"
      ],
      "execution_count": 0,
      "outputs": []
    },
    {
      "cell_type": "code",
      "metadata": {
        "id": "frhmkOM3MVfQ",
        "colab_type": "code",
        "colab": {}
      },
      "source": [
        "#Add Dense Layer which provides 10 outputs after applying softmax\n",
        "model.add(Dense(10,activation='softmax'))"
      ],
      "execution_count": 0,
      "outputs": []
    },
    {
      "cell_type": "code",
      "metadata": {
        "id": "Y8tOjdU9MZ1c",
        "colab_type": "code",
        "colab": {}
      },
      "source": [
        "# Change the learning rate\n",
        "sgd_optimizer = optimizers.SGD(lr=0.1)\n",
        "model.compile(optimizer=sgd_optimizer, loss='categorical_crossentropy',metrics=['accuracy'])"
      ],
      "execution_count": 0,
      "outputs": []
    },
    {
      "cell_type": "code",
      "metadata": {
        "id": "fi3K8uvxMfTi",
        "colab_type": "code",
        "colab": {
          "base_uri": "https://localhost:8080/",
          "height": 399
        },
        "outputId": "2549546a-5175-424d-b696-1e33ab2d97bb"
      },
      "source": [
        "# Execute the model\n",
        "model.fit(X_train,y_train,epochs=10,validation_data=(X_val,y_val),batch_size=700, verbose = 1)"
      ],
      "execution_count": 67,
      "outputs": [
        {
          "output_type": "stream",
          "text": [
            "Train on 42000 samples, validate on 60000 samples\n",
            "Epoch 1/10\n",
            "42000/42000 [==============================] - 1s 15us/sample - loss: 0.3886 - accuracy: 0.8862 - val_loss: 0.5555 - val_accuracy: 0.8418\n",
            "Epoch 2/10\n",
            "42000/42000 [==============================] - 1s 14us/sample - loss: 0.3384 - accuracy: 0.8975 - val_loss: 0.3808 - val_accuracy: 0.8949\n",
            "Epoch 3/10\n",
            "42000/42000 [==============================] - 1s 14us/sample - loss: 0.3778 - accuracy: 0.8901 - val_loss: 0.4860 - val_accuracy: 0.8605\n",
            "Epoch 4/10\n",
            "42000/42000 [==============================] - 1s 15us/sample - loss: 0.3243 - accuracy: 0.9018 - val_loss: 0.4386 - val_accuracy: 0.8748\n",
            "Epoch 5/10\n",
            "42000/42000 [==============================] - 1s 15us/sample - loss: 0.3271 - accuracy: 0.9009 - val_loss: 0.3846 - val_accuracy: 0.8924\n",
            "Epoch 6/10\n",
            "42000/42000 [==============================] - 1s 14us/sample - loss: 0.3187 - accuracy: 0.9034 - val_loss: 0.3812 - val_accuracy: 0.8945\n",
            "Epoch 7/10\n",
            "42000/42000 [==============================] - 1s 14us/sample - loss: 0.3267 - accuracy: 0.9021 - val_loss: 0.3976 - val_accuracy: 0.8882\n",
            "Epoch 8/10\n",
            "42000/42000 [==============================] - 1s 14us/sample - loss: 0.3109 - accuracy: 0.9069 - val_loss: 0.3813 - val_accuracy: 0.8948\n",
            "Epoch 9/10\n",
            "42000/42000 [==============================] - 1s 14us/sample - loss: 0.3080 - accuracy: 0.9064 - val_loss: 0.4012 - val_accuracy: 0.8877\n",
            "Epoch 10/10\n",
            "42000/42000 [==============================] - 1s 15us/sample - loss: 0.3069 - accuracy: 0.9071 - val_loss: 0.3793 - val_accuracy: 0.8958\n"
          ],
          "name": "stdout"
        },
        {
          "output_type": "execute_result",
          "data": {
            "text/plain": [
              "<tensorflow.python.keras.callbacks.History at 0x7fc723eb07d0>"
            ]
          },
          "metadata": {
            "tags": []
          },
          "execution_count": 67
        }
      ]
    },
    {
      "cell_type": "markdown",
      "metadata": {
        "id": "tc8VtxWmOBoT",
        "colab_type": "text"
      },
      "source": [
        "**Evaluate the model**"
      ]
    },
    {
      "cell_type": "code",
      "metadata": {
        "id": "3f8EcFssOJo1",
        "colab_type": "code",
        "colab": {
          "base_uri": "https://localhost:8080/",
          "height": 52
        },
        "outputId": "f38cf727-540b-47ab-9c36-0c70dcff0731"
      },
      "source": [
        "score, acc = model.evaluate(X_test, y_test,\n",
        "                       batch_size=700, verbose=1)\n",
        "\n",
        "print('Test accuracy:', acc)"
      ],
      "execution_count": 68,
      "outputs": [
        {
          "output_type": "stream",
          "text": [
            "18000/18000 [==============================] - 0s 6us/sample - loss: 0.6349 - accuracy: 0.8365\n",
            "('Test accuracy:', 0.8365)\n"
          ],
          "name": "stdout"
        }
      ]
    },
    {
      "cell_type": "code",
      "metadata": {
        "id": "XnAWjF9tOOwu",
        "colab_type": "code",
        "colab": {}
      },
      "source": [
        "prediction = model.predict(X_test)"
      ],
      "execution_count": 0,
      "outputs": []
    },
    {
      "cell_type": "code",
      "metadata": {
        "id": "J_S689y9OTCn",
        "colab_type": "code",
        "colab": {}
      },
      "source": [
        "predictions = np.argmax(prediction, axis = 1)"
      ],
      "execution_count": 0,
      "outputs": []
    },
    {
      "cell_type": "code",
      "metadata": {
        "id": "GtkgYEwkOWnM",
        "colab_type": "code",
        "colab": {
          "base_uri": "https://localhost:8080/",
          "height": 35
        },
        "outputId": "efbc3985-a99c-4d6e-eb08-d1b183558cbb"
      },
      "source": [
        "predictions"
      ],
      "execution_count": 71,
      "outputs": [
        {
          "output_type": "execute_result",
          "data": {
            "text/plain": [
              "array([0, 7, 2, ..., 7, 9, 2])"
            ]
          },
          "metadata": {
            "tags": []
          },
          "execution_count": 71
        }
      ]
    },
    {
      "cell_type": "code",
      "metadata": {
        "id": "EBYjD6DkOag6",
        "colab_type": "code",
        "colab": {
          "base_uri": "https://localhost:8080/",
          "height": 35
        },
        "outputId": "6364733c-5787-4898-c80c-942dbc6c4140"
      },
      "source": [
        "y_test_labels = np.argmax(y_test, axis =1)\n",
        "y_test_labels"
      ],
      "execution_count": 72,
      "outputs": [
        {
          "output_type": "execute_result",
          "data": {
            "text/plain": [
              "array([1, 7, 2, ..., 7, 9, 2])"
            ]
          },
          "metadata": {
            "tags": []
          },
          "execution_count": 72
        }
      ]
    },
    {
      "cell_type": "code",
      "metadata": {
        "id": "0eo_pZQ9OkjL",
        "colab_type": "code",
        "colab": {
          "base_uri": "https://localhost:8080/",
          "height": 572
        },
        "outputId": "708127e1-729a-4a2d-8f20-fa660b11c369"
      },
      "source": [
        "print('Confusion Matrix\\n')\n",
        "print(confusion_matrix(y_test_labels, predictions))\n",
        "print('\\n Classification Report\\n')\n",
        "print(classification_report(y_test_labels, predictions))"
      ],
      "execution_count": 73,
      "outputs": [
        {
          "output_type": "stream",
          "text": [
            "Confusion Matrix\n",
            "\n",
            "[[1611   27   11   24   21   15   23   17   29   36]\n",
            " [  26 1543   30   40   59   22   24   47   22   15]\n",
            " [  14   17 1565   45   26   16   10   43   25   42]\n",
            " [  14   30   41 1352   23  137   29   28   46   19]\n",
            " [  23   40   30   25 1568   19   42    8   30   27]\n",
            " [  23   19   12   76    8 1486   60    7   41   36]\n",
            " [  42   19   16   29   31   65 1525   11   83   11]\n",
            " [  19   62   69   35   22   11   17 1545    9   19]\n",
            " [  25   37   26   72   30   44  114   10 1411   43]\n",
            " [  63   28   33   57   25   56   22   25   44 1451]]\n",
            "\n",
            " Classification Report\n",
            "\n",
            "              precision    recall  f1-score   support\n",
            "\n",
            "           0       0.87      0.89      0.88      1814\n",
            "           1       0.85      0.84      0.85      1828\n",
            "           2       0.85      0.87      0.86      1803\n",
            "           3       0.77      0.79      0.78      1719\n",
            "           4       0.86      0.87      0.87      1812\n",
            "           5       0.79      0.84      0.82      1768\n",
            "           6       0.82      0.83      0.82      1832\n",
            "           7       0.89      0.85      0.87      1808\n",
            "           8       0.81      0.78      0.79      1812\n",
            "           9       0.85      0.80      0.83      1804\n",
            "\n",
            "   micro avg       0.84      0.84      0.84     18000\n",
            "   macro avg       0.84      0.84      0.84     18000\n",
            "weighted avg       0.84      0.84      0.84     18000\n",
            "\n"
          ],
          "name": "stdout"
        }
      ]
    }
  ]
}