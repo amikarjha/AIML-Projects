{
 "cells": [
  {
   "cell_type": "code",
   "execution_count": 42,
   "metadata": {},
   "outputs": [],
   "source": [
    "# 1. Importing Libraries\n",
    "import numpy as np\n",
    "import pandas as pd\n",
    "import matplotlib.pyplot as plt\n",
    "%matplotlib inline\n",
    "import seaborn as sns\n",
    "import warnings\n",
    "warnings.filterwarnings('ignore')\n",
    "from sklearn.model_selection import train_test_split\n",
    "from sklearn.preprocessing import LabelEncoder\n",
    "from sklearn import metrics\n",
    "from sklearn.linear_model import LogisticRegression\n",
    "from sklearn.naive_bayes import GaussianNB\n",
    "from sklearn.tree import DecisionTreeClassifier\n",
    "from sklearn.ensemble import BaggingClassifier\n",
    "from sklearn.ensemble import AdaBoostClassifier\n",
    "from sklearn.ensemble import GradientBoostingClassifier\n",
    "from sklearn.ensemble import RandomForestClassifier\n",
    "from sklearn.metrics import roc_curve, auc\n",
    "import pylab as pl"
   ]
  },
  {
   "cell_type": "code",
   "execution_count": 23,
   "metadata": {},
   "outputs": [],
   "source": [
    "# 2. Reading the data as dataframe\n",
    "bankData = pd.read_csv('bank-full.csv')"
   ]
  },
  {
   "cell_type": "code",
   "execution_count": 24,
   "metadata": {},
   "outputs": [
    {
     "data": {
      "text/plain": [
       "(45211, 17)"
      ]
     },
     "execution_count": 24,
     "metadata": {},
     "output_type": "execute_result"
    }
   ],
   "source": [
    "# 3 a) Shape of the data\n",
    "bankData.shape\n",
    "# There are 45,211 rows and 17 columns"
   ]
  },
  {
   "cell_type": "code",
   "execution_count": 25,
   "metadata": {},
   "outputs": [
    {
     "data": {
      "text/plain": [
       "age           int64\n",
       "job          object\n",
       "marital      object\n",
       "education    object\n",
       "default      object\n",
       "balance       int64\n",
       "housing      object\n",
       "loan         object\n",
       "contact      object\n",
       "day           int64\n",
       "month        object\n",
       "duration      int64\n",
       "campaign      int64\n",
       "pdays         int64\n",
       "previous      int64\n",
       "poutcome     object\n",
       "Target       object\n",
       "dtype: object"
      ]
     },
     "execution_count": 25,
     "metadata": {},
     "output_type": "execute_result"
    }
   ],
   "source": [
    "# 3 b) Data type of each attribute\n",
    "bankData.dtypes\n",
    "# 10 Object and 7 integer type attributes; Target variable is also Object type. We need to change object types to integer types\n",
    "# for model building"
   ]
  },
  {
   "cell_type": "code",
   "execution_count": 26,
   "metadata": {},
   "outputs": [
    {
     "data": {
      "text/plain": [
       "age          0\n",
       "job          0\n",
       "marital      0\n",
       "education    0\n",
       "default      0\n",
       "balance      0\n",
       "housing      0\n",
       "loan         0\n",
       "contact      0\n",
       "day          0\n",
       "month        0\n",
       "duration     0\n",
       "campaign     0\n",
       "pdays        0\n",
       "previous     0\n",
       "poutcome     0\n",
       "Target       0\n",
       "dtype: int64"
      ]
     },
     "execution_count": 26,
     "metadata": {},
     "output_type": "execute_result"
    }
   ],
   "source": [
    "# 3 c) Checking the presence of missing values\n",
    "bankData.isnull().sum()\n",
    "# No missing values"
   ]
  },
  {
   "cell_type": "code",
   "execution_count": 27,
   "metadata": {},
   "outputs": [
    {
     "data": {
      "text/html": [
       "<div>\n",
       "<style scoped>\n",
       "    .dataframe tbody tr th:only-of-type {\n",
       "        vertical-align: middle;\n",
       "    }\n",
       "\n",
       "    .dataframe tbody tr th {\n",
       "        vertical-align: top;\n",
       "    }\n",
       "\n",
       "    .dataframe thead th {\n",
       "        text-align: right;\n",
       "    }\n",
       "</style>\n",
       "<table border=\"1\" class=\"dataframe\">\n",
       "  <thead>\n",
       "    <tr style=\"text-align: right;\">\n",
       "      <th></th>\n",
       "      <th>age</th>\n",
       "      <th>job</th>\n",
       "      <th>marital</th>\n",
       "      <th>education</th>\n",
       "      <th>default</th>\n",
       "      <th>balance</th>\n",
       "      <th>housing</th>\n",
       "      <th>loan</th>\n",
       "      <th>contact</th>\n",
       "      <th>day</th>\n",
       "      <th>month</th>\n",
       "      <th>duration</th>\n",
       "      <th>campaign</th>\n",
       "      <th>pdays</th>\n",
       "      <th>previous</th>\n",
       "      <th>poutcome</th>\n",
       "      <th>Target</th>\n",
       "    </tr>\n",
       "  </thead>\n",
       "  <tbody>\n",
       "    <tr>\n",
       "      <th>0</th>\n",
       "      <td>58</td>\n",
       "      <td>management</td>\n",
       "      <td>married</td>\n",
       "      <td>tertiary</td>\n",
       "      <td>no</td>\n",
       "      <td>2143</td>\n",
       "      <td>yes</td>\n",
       "      <td>no</td>\n",
       "      <td>unknown</td>\n",
       "      <td>5</td>\n",
       "      <td>may</td>\n",
       "      <td>261</td>\n",
       "      <td>1</td>\n",
       "      <td>-1</td>\n",
       "      <td>0</td>\n",
       "      <td>unknown</td>\n",
       "      <td>no</td>\n",
       "    </tr>\n",
       "    <tr>\n",
       "      <th>1</th>\n",
       "      <td>44</td>\n",
       "      <td>technician</td>\n",
       "      <td>single</td>\n",
       "      <td>secondary</td>\n",
       "      <td>no</td>\n",
       "      <td>29</td>\n",
       "      <td>yes</td>\n",
       "      <td>no</td>\n",
       "      <td>unknown</td>\n",
       "      <td>5</td>\n",
       "      <td>may</td>\n",
       "      <td>151</td>\n",
       "      <td>1</td>\n",
       "      <td>-1</td>\n",
       "      <td>0</td>\n",
       "      <td>unknown</td>\n",
       "      <td>no</td>\n",
       "    </tr>\n",
       "    <tr>\n",
       "      <th>2</th>\n",
       "      <td>33</td>\n",
       "      <td>entrepreneur</td>\n",
       "      <td>married</td>\n",
       "      <td>secondary</td>\n",
       "      <td>no</td>\n",
       "      <td>2</td>\n",
       "      <td>yes</td>\n",
       "      <td>yes</td>\n",
       "      <td>unknown</td>\n",
       "      <td>5</td>\n",
       "      <td>may</td>\n",
       "      <td>76</td>\n",
       "      <td>1</td>\n",
       "      <td>-1</td>\n",
       "      <td>0</td>\n",
       "      <td>unknown</td>\n",
       "      <td>no</td>\n",
       "    </tr>\n",
       "    <tr>\n",
       "      <th>3</th>\n",
       "      <td>47</td>\n",
       "      <td>blue-collar</td>\n",
       "      <td>married</td>\n",
       "      <td>unknown</td>\n",
       "      <td>no</td>\n",
       "      <td>1506</td>\n",
       "      <td>yes</td>\n",
       "      <td>no</td>\n",
       "      <td>unknown</td>\n",
       "      <td>5</td>\n",
       "      <td>may</td>\n",
       "      <td>92</td>\n",
       "      <td>1</td>\n",
       "      <td>-1</td>\n",
       "      <td>0</td>\n",
       "      <td>unknown</td>\n",
       "      <td>no</td>\n",
       "    </tr>\n",
       "    <tr>\n",
       "      <th>4</th>\n",
       "      <td>33</td>\n",
       "      <td>unknown</td>\n",
       "      <td>single</td>\n",
       "      <td>unknown</td>\n",
       "      <td>no</td>\n",
       "      <td>1</td>\n",
       "      <td>no</td>\n",
       "      <td>no</td>\n",
       "      <td>unknown</td>\n",
       "      <td>5</td>\n",
       "      <td>may</td>\n",
       "      <td>198</td>\n",
       "      <td>1</td>\n",
       "      <td>-1</td>\n",
       "      <td>0</td>\n",
       "      <td>unknown</td>\n",
       "      <td>no</td>\n",
       "    </tr>\n",
       "  </tbody>\n",
       "</table>\n",
       "</div>"
      ],
      "text/plain": [
       "   age           job  marital  education default  balance housing loan  \\\n",
       "0   58    management  married   tertiary      no     2143     yes   no   \n",
       "1   44    technician   single  secondary      no       29     yes   no   \n",
       "2   33  entrepreneur  married  secondary      no        2     yes  yes   \n",
       "3   47   blue-collar  married    unknown      no     1506     yes   no   \n",
       "4   33       unknown   single    unknown      no        1      no   no   \n",
       "\n",
       "   contact  day month  duration  campaign  pdays  previous poutcome Target  \n",
       "0  unknown    5   may       261         1     -1         0  unknown     no  \n",
       "1  unknown    5   may       151         1     -1         0  unknown     no  \n",
       "2  unknown    5   may        76         1     -1         0  unknown     no  \n",
       "3  unknown    5   may        92         1     -1         0  unknown     no  \n",
       "4  unknown    5   may       198         1     -1         0  unknown     no  "
      ]
     },
     "execution_count": 27,
     "metadata": {},
     "output_type": "execute_result"
    }
   ],
   "source": [
    "bankData.head()\n",
    "# Ranking is not important for categorical variables; One hot encoding is sufficient for categorization"
   ]
  },
  {
   "cell_type": "code",
   "execution_count": 28,
   "metadata": {},
   "outputs": [
    {
     "data": {
      "text/html": [
       "<div>\n",
       "<style scoped>\n",
       "    .dataframe tbody tr th:only-of-type {\n",
       "        vertical-align: middle;\n",
       "    }\n",
       "\n",
       "    .dataframe tbody tr th {\n",
       "        vertical-align: top;\n",
       "    }\n",
       "\n",
       "    .dataframe thead th {\n",
       "        text-align: right;\n",
       "    }\n",
       "</style>\n",
       "<table border=\"1\" class=\"dataframe\">\n",
       "  <thead>\n",
       "    <tr style=\"text-align: right;\">\n",
       "      <th></th>\n",
       "      <th>count</th>\n",
       "      <th>mean</th>\n",
       "      <th>std</th>\n",
       "      <th>min</th>\n",
       "      <th>25%</th>\n",
       "      <th>50%</th>\n",
       "      <th>75%</th>\n",
       "      <th>max</th>\n",
       "    </tr>\n",
       "  </thead>\n",
       "  <tbody>\n",
       "    <tr>\n",
       "      <th>age</th>\n",
       "      <td>45211.0</td>\n",
       "      <td>40.936210</td>\n",
       "      <td>10.618762</td>\n",
       "      <td>18.0</td>\n",
       "      <td>33.0</td>\n",
       "      <td>39.0</td>\n",
       "      <td>48.0</td>\n",
       "      <td>95.0</td>\n",
       "    </tr>\n",
       "    <tr>\n",
       "      <th>balance</th>\n",
       "      <td>45211.0</td>\n",
       "      <td>1362.272058</td>\n",
       "      <td>3044.765829</td>\n",
       "      <td>-8019.0</td>\n",
       "      <td>72.0</td>\n",
       "      <td>448.0</td>\n",
       "      <td>1428.0</td>\n",
       "      <td>102127.0</td>\n",
       "    </tr>\n",
       "    <tr>\n",
       "      <th>day</th>\n",
       "      <td>45211.0</td>\n",
       "      <td>15.806419</td>\n",
       "      <td>8.322476</td>\n",
       "      <td>1.0</td>\n",
       "      <td>8.0</td>\n",
       "      <td>16.0</td>\n",
       "      <td>21.0</td>\n",
       "      <td>31.0</td>\n",
       "    </tr>\n",
       "    <tr>\n",
       "      <th>duration</th>\n",
       "      <td>45211.0</td>\n",
       "      <td>258.163080</td>\n",
       "      <td>257.527812</td>\n",
       "      <td>0.0</td>\n",
       "      <td>103.0</td>\n",
       "      <td>180.0</td>\n",
       "      <td>319.0</td>\n",
       "      <td>4918.0</td>\n",
       "    </tr>\n",
       "    <tr>\n",
       "      <th>campaign</th>\n",
       "      <td>45211.0</td>\n",
       "      <td>2.763841</td>\n",
       "      <td>3.098021</td>\n",
       "      <td>1.0</td>\n",
       "      <td>1.0</td>\n",
       "      <td>2.0</td>\n",
       "      <td>3.0</td>\n",
       "      <td>63.0</td>\n",
       "    </tr>\n",
       "    <tr>\n",
       "      <th>pdays</th>\n",
       "      <td>45211.0</td>\n",
       "      <td>40.197828</td>\n",
       "      <td>100.128746</td>\n",
       "      <td>-1.0</td>\n",
       "      <td>-1.0</td>\n",
       "      <td>-1.0</td>\n",
       "      <td>-1.0</td>\n",
       "      <td>871.0</td>\n",
       "    </tr>\n",
       "    <tr>\n",
       "      <th>previous</th>\n",
       "      <td>45211.0</td>\n",
       "      <td>0.580323</td>\n",
       "      <td>2.303441</td>\n",
       "      <td>0.0</td>\n",
       "      <td>0.0</td>\n",
       "      <td>0.0</td>\n",
       "      <td>0.0</td>\n",
       "      <td>275.0</td>\n",
       "    </tr>\n",
       "  </tbody>\n",
       "</table>\n",
       "</div>"
      ],
      "text/plain": [
       "            count         mean          std     min    25%    50%     75%  \\\n",
       "age       45211.0    40.936210    10.618762    18.0   33.0   39.0    48.0   \n",
       "balance   45211.0  1362.272058  3044.765829 -8019.0   72.0  448.0  1428.0   \n",
       "day       45211.0    15.806419     8.322476     1.0    8.0   16.0    21.0   \n",
       "duration  45211.0   258.163080   257.527812     0.0  103.0  180.0   319.0   \n",
       "campaign  45211.0     2.763841     3.098021     1.0    1.0    2.0     3.0   \n",
       "pdays     45211.0    40.197828   100.128746    -1.0   -1.0   -1.0    -1.0   \n",
       "previous  45211.0     0.580323     2.303441     0.0    0.0    0.0     0.0   \n",
       "\n",
       "               max  \n",
       "age           95.0  \n",
       "balance   102127.0  \n",
       "day           31.0  \n",
       "duration    4918.0  \n",
       "campaign      63.0  \n",
       "pdays        871.0  \n",
       "previous     275.0  "
      ]
     },
     "execution_count": 28,
     "metadata": {},
     "output_type": "execute_result"
    }
   ],
   "source": [
    "# 3 d) 5 point summary of numerical attributes\n",
    "bankData.describe().T\n",
    "# Data looks legit as all stats seems reasonable\n",
    "# Looking at the age column, data looks representative of the true age distribution of the adult population\n",
    "# Minimum average yearly balance is negative for some customers i.e. quite possible in real life scenario\n",
    "# Some doubts on pdays i.e. number of days that passed by after the client was last contacted cannot be negative\n",
    "# pdays can be 0 at max"
   ]
  },
  {
   "cell_type": "code",
   "execution_count": 29,
   "metadata": {},
   "outputs": [
    {
     "data": {
      "text/plain": [
       "<matplotlib.axes._subplots.AxesSubplot at 0x2b81b783518>"
      ]
     },
     "execution_count": 29,
     "metadata": {},
     "output_type": "execute_result"
    },
    {
     "data": {
      "image/png": "[encoded data removed]",
      "text/plain": [
       "<Figure size 2160x2160 with 7 Axes>"
      ]
     },
     "metadata": {
      "needs_background": "light"
     },
     "output_type": "display_data"
    }
   ],
   "source": [
    "# 3 e) Checking the presence of outliers\n",
    "plt.figure(figsize = (30,30))\n",
    "plt.subplot(7,1,1)\n",
    "sns.boxplot(x = bankData.age, color = 'lightblue')\n",
    "\n",
    "plt.subplot(7,1,2)\n",
    "sns.boxplot(x = bankData.balance, color = 'lightblue')\n",
    "\n",
    "plt.subplot(7,1,3)\n",
    "sns.boxplot(x = bankData.day, color = 'lightblue')\n",
    "\n",
    "plt.subplot(7,1,4)\n",
    "sns.boxplot(x = bankData.duration, color = 'lightblue')\n",
    "\n",
    "plt.subplot(7,1,5)\n",
    "sns.boxplot(x = bankData.campaign, color = 'lightblue')\n",
    "\n",
    "plt.subplot(7,1,6)\n",
    "sns.boxplot(x = bankData.pdays, color = 'lightblue')\n",
    "\n",
    "plt.subplot(7,1,7)\n",
    "sns.boxplot(x = bankData.previous, color = 'lightblue')\n",
    "\n",
    "# Outliers present for Age, Balance, Duration, Campaign, pdays & Previous. Only Day has no outliers\n",
    "# Age & Campaign have only fewer proportion of  extreme values compared to Balance , Duration, pdays & previous"
   ]
  },
  {
   "cell_type": "code",
   "execution_count": 30,
   "metadata": {},
   "outputs": [],
   "source": [
    "# 4. Data Preparation & speration into training & test stage\n",
    "# Use label encoder to convert categorical variables to one-hot encoding (dummy variables)\n",
    "le = LabelEncoder()\n",
    "bankData['Target'] = le.fit_transform(bankData['Target'])\n",
    "bankData['job'] = le.fit_transform(bankData['job'])\n",
    "bankData['marital'] = le.fit_transform(bankData['marital'])\n",
    "bankData['education'] = le.fit_transform(bankData['education'])\n",
    "bankData['default'] = le.fit_transform(bankData['default'])\n",
    "bankData['housing'] = le.fit_transform(bankData['housing'])\n",
    "bankData['loan'] = le.fit_transform(bankData['loan'])\n",
    "bankData['contact'] = le.fit_transform(bankData['contact'])\n",
    "bankData['month'] = le.fit_transform(bankData['month'])\n",
    "bankData['poutcome'] = le.fit_transform(bankData['poutcome'])"
   ]
  },
  {
   "cell_type": "code",
   "execution_count": 31,
   "metadata": {},
   "outputs": [
    {
     "name": "stdout",
     "output_type": "stream",
     "text": [
      "<class 'pandas.core.frame.DataFrame'>\n",
      "RangeIndex: 45211 entries, 0 to 45210\n",
      "Data columns (total 17 columns):\n",
      "age          45211 non-null int64\n",
      "job          45211 non-null int32\n",
      "marital      45211 non-null int32\n",
      "education    45211 non-null int32\n",
      "default      45211 non-null int32\n",
      "balance      45211 non-null int64\n",
      "housing      45211 non-null int32\n",
      "loan         45211 non-null int32\n",
      "contact      45211 non-null int32\n",
      "day          45211 non-null int64\n",
      "month        45211 non-null int32\n",
      "duration     45211 non-null int64\n",
      "campaign     45211 non-null int64\n",
      "pdays        45211 non-null int64\n",
      "previous     45211 non-null int64\n",
      "poutcome     45211 non-null int32\n",
      "Target       45211 non-null int32\n",
      "dtypes: int32(10), int64(7)\n",
      "memory usage: 4.1 MB\n"
     ]
    }
   ],
   "source": [
    "bankData.info()\n",
    "# We have only integer data types"
   ]
  },
  {
   "cell_type": "code",
   "execution_count": 32,
   "metadata": {},
   "outputs": [],
   "source": [
    "# All the negative value of pdays i.e. days passed by after the client was last contacted from a previous campaign is NIL\n",
    "bankData[bankData['pdays'] < 0] = 0"
   ]
  },
  {
   "cell_type": "code",
   "execution_count": 33,
   "metadata": {},
   "outputs": [],
   "source": [
    "dummy_variables = [\"Target\", \"duration\"] # Given in the problem statement that duration is only for benchmarking purposes\n",
    "X = bankData.drop(dummy_variables , axis = 1)\n",
    "Y = bankData['Target']\n",
    "X_train, X_test , y_train, y_test = train_test_split(X, Y, test_size = 0.3, random_state = 1)"
   ]
  },
  {
   "cell_type": "code",
   "execution_count": 35,
   "metadata": {},
   "outputs": [
    {
     "data": {
      "text/plain": [
       "LogisticRegression(C=1.0, class_weight=None, dual=False, fit_intercept=True,\n",
       "                   intercept_scaling=1, l1_ratio=None, max_iter=100,\n",
       "                   multi_class='warn', n_jobs=None, penalty='l2',\n",
       "                   random_state=None, solver='liblinear', tol=0.0001, verbose=0,\n",
       "                   warm_start=False)"
      ]
     },
     "execution_count": 35,
     "metadata": {},
     "output_type": "execute_result"
    }
   ],
   "source": [
    "# 5. A) Logistic Regression\n",
    "model_LR = LogisticRegression(solver = 'liblinear')\n",
    "model_LR.fit(X_train, y_train)"
   ]
  },
  {
   "cell_type": "code",
   "execution_count": 109,
   "metadata": {},
   "outputs": [
    {
     "name": "stdout",
     "output_type": "stream",
     "text": [
      "0.967105886813916\n",
      "0.965644352698319\n"
     ]
    }
   ],
   "source": [
    "print(model_LR.score(X_train, y_train))\n",
    "print(model_LR.score(X_test, y_test))\n",
    "# Seems to be no overfitting as training score is not 1.0\n",
    "# High Accuracy scores with test data"
   ]
  },
  {
   "cell_type": "code",
   "execution_count": 16,
   "metadata": {},
   "outputs": [
    {
     "name": "stdout",
     "output_type": "stream",
     "text": [
      "Classification Report\n",
      "              precision    recall  f1-score   support\n",
      "\n",
      "           1       0.66      0.40      0.50       581\n",
      "           0       0.97      0.99      0.98     12983\n",
      "\n",
      "    accuracy                           0.97     13564\n",
      "   macro avg       0.82      0.70      0.74     13564\n",
      "weighted avg       0.96      0.97      0.96     13564\n",
      "\n"
     ]
    }
   ],
   "source": [
    "y_pred_LR = model_LR.predict(X_test)\n",
    "print(\"Classification Report\")\n",
    "print(metrics.classification_report(y_test,y_pred_LR, labels = [1,0]))\n",
    "# Target column is not equally represented (581 vs 12983), hence class level metric becomes important\n",
    "# Lower score of recall, precison and f1 when compared to accuracy score; Need to check other models"
   ]
  },
  {
   "cell_type": "code",
   "execution_count": 102,
   "metadata": {},
   "outputs": [
    {
     "data": {
      "text/plain": [
       "GaussianNB(priors=None, var_smoothing=1e-09)"
      ]
     },
     "execution_count": 102,
     "metadata": {},
     "output_type": "execute_result"
    }
   ],
   "source": [
    "# 5. B) Naive Bayes\n",
    "model_NB = GaussianNB()\n",
    "model_NB.fit(X_train , y_train)"
   ]
  },
  {
   "cell_type": "code",
   "execution_count": 38,
   "metadata": {},
   "outputs": [
    {
     "name": "stdout",
     "output_type": "stream",
     "text": [
      "0.863430972920024\n",
      "0.862135063403126\n"
     ]
    }
   ],
   "source": [
    "print(model_NB.score(X_train, y_train))\n",
    "print(model_NB.score(X_test, y_test))\n",
    "# Seems model doesn't suffer from overfitting as training score is not 1.0\n",
    "# Accuracy scores for the test data is 0.86 but lower than that of Logistic Regression"
   ]
  },
  {
   "cell_type": "code",
   "execution_count": 39,
   "metadata": {},
   "outputs": [
    {
     "name": "stdout",
     "output_type": "stream",
     "text": [
      "Classification Report\n",
      "              precision    recall  f1-score   support\n",
      "\n",
      "           1       0.23      0.98      0.38       581\n",
      "           0       1.00      0.86      0.92     12983\n",
      "\n",
      "    accuracy                           0.86     13564\n",
      "   macro avg       0.62      0.92      0.65     13564\n",
      "weighted avg       0.97      0.86      0.90     13564\n",
      "\n"
     ]
    }
   ],
   "source": [
    "y_pred_NB = model_NB.predict(X_test)\n",
    "print(\"Classification Report\")\n",
    "print(metrics.classification_report(y_test,y_pred_NB, labels = [1,0]))\n",
    "# Target column is not equally represented (581 vs 12983), hence class level metric becomes important\n",
    "# Strong score of recall but poor precison pulls overall f1 down and makes it lower than that of Logistic Regression"
   ]
  },
  {
   "cell_type": "code",
   "execution_count": 103,
   "metadata": {},
   "outputs": [
    {
     "data": {
      "text/plain": [
       "DecisionTreeClassifier(class_weight=None, criterion='entropy', max_depth=None,\n",
       "                       max_features=None, max_leaf_nodes=None,\n",
       "                       min_impurity_decrease=0.0, min_impurity_split=None,\n",
       "                       min_samples_leaf=1, min_samples_split=2,\n",
       "                       min_weight_fraction_leaf=0.0, presort=False,\n",
       "                       random_state=1, splitter='best')"
      ]
     },
     "execution_count": 103,
     "metadata": {},
     "output_type": "execute_result"
    }
   ],
   "source": [
    "# 5. C) Decision Trees\n",
    "model_DT = DecisionTreeClassifier(criterion = 'entropy', random_state = 1)\n",
    "model_DT.fit(X_train, y_train)"
   ]
  },
  {
   "cell_type": "code",
   "execution_count": 51,
   "metadata": {},
   "outputs": [
    {
     "name": "stdout",
     "output_type": "stream",
     "text": [
      "1.0\n",
      "0.9526688292539074\n"
     ]
    }
   ],
   "source": [
    "print(model_DT.score(X_train, y_train))\n",
    "print(model_DT.score(X_test, y_test))\n",
    "# A case of overfitting because training score is 1.0\n",
    "# Accuracy score of the test data is higher than that of Naive Bayes but lower than that of Logistic Regression"
   ]
  },
  {
   "cell_type": "code",
   "execution_count": 52,
   "metadata": {},
   "outputs": [
    {
     "name": "stdout",
     "output_type": "stream",
     "text": [
      "Classification Report\n",
      "              precision    recall  f1-score   support\n",
      "\n",
      "           1       0.45      0.47      0.46       581\n",
      "           0       0.98      0.97      0.98     12983\n",
      "\n",
      "    accuracy                           0.95     13564\n",
      "   macro avg       0.71      0.72      0.72     13564\n",
      "weighted avg       0.95      0.95      0.95     13564\n",
      "\n"
     ]
    }
   ],
   "source": [
    "y_pred_DT = model_DT.predict(X_test)\n",
    "print(\"Classification Report\")\n",
    "print(metrics.classification_report(y_test,y_pred_DT, labels = [1,0]))\n",
    "# Target column is not equally represented (581 vs 12983), hence class level metric becomes important\n",
    "# Lower recall but higher precision w.r.t. Naive Bayes; Overall f1-score is higher\n",
    "# Higher recall but lower precision w.r.t. Logistic Regression; Overall f1-score is lower\n",
    "# Mid-way between Naive Bayes and Logistic Regression in terms of f1-score"
   ]
  },
  {
   "cell_type": "code",
   "execution_count": 104,
   "metadata": {},
   "outputs": [
    {
     "data": {
      "text/plain": [
       "RandomForestClassifier(bootstrap=True, class_weight=None, criterion='gini',\n",
       "                       max_depth=None, max_features=6, max_leaf_nodes=None,\n",
       "                       min_impurity_decrease=0.0, min_impurity_split=None,\n",
       "                       min_samples_leaf=1, min_samples_split=2,\n",
       "                       min_weight_fraction_leaf=0.0, n_estimators=50,\n",
       "                       n_jobs=None, oob_score=False, random_state=1, verbose=0,\n",
       "                       warm_start=False)"
      ]
     },
     "execution_count": 104,
     "metadata": {},
     "output_type": "execute_result"
    }
   ],
   "source": [
    "# 6. a) Random Forest vs Decision Tree\n",
    "rfcl = RandomForestClassifier(n_estimators = 50, random_state = 1, max_features = 6)\n",
    "rfcl.fit(X_train , y_train)"
   ]
  },
  {
   "cell_type": "code",
   "execution_count": 105,
   "metadata": {},
   "outputs": [
    {
     "name": "stdout",
     "output_type": "stream",
     "text": [
      "0.9998736057130218\n",
      "0.9662341492185196\n"
     ]
    }
   ],
   "source": [
    "print(rfcl.score(X_train, y_train))\n",
    "print(rfcl.score(X_test, y_test))\n",
    "# Overfittting has reduced w.r.t. Decision tree as training score has come down from 1 to 0.99\n",
    "# Score of test data has improved from 0.95 to 0.97"
   ]
  },
  {
   "cell_type": "code",
   "execution_count": 48,
   "metadata": {},
   "outputs": [
    {
     "name": "stdout",
     "output_type": "stream",
     "text": [
      "Classification Report\n",
      "              precision    recall  f1-score   support\n",
      "\n",
      "           1       0.65      0.47      0.54       581\n",
      "           0       0.98      0.99      0.98     12983\n",
      "\n",
      "    accuracy                           0.97     13564\n",
      "   macro avg       0.81      0.73      0.76     13564\n",
      "weighted avg       0.96      0.97      0.96     13564\n",
      "\n"
     ]
    }
   ],
   "source": [
    "y_pred_RF = rfcl.predict(X_test)\n",
    "print(\"Classification Report\")\n",
    "print(metrics.classification_report(y_test,y_pred_RF, labels = [1,0]))\n",
    "# Target column is not equally represented (581 vs 12983), hence class level metric becomes important\n",
    "# Precision has improved & recall remained same w.r.t. Decision tree model\n",
    "# Higher precision led to improvement in f1-score"
   ]
  },
  {
   "cell_type": "code",
   "execution_count": 106,
   "metadata": {},
   "outputs": [
    {
     "data": {
      "text/plain": [
       "BaggingClassifier(base_estimator=GaussianNB(priors=None, var_smoothing=1e-09),\n",
       "                  bootstrap=True, bootstrap_features=False, max_features=1.0,\n",
       "                  max_samples=1.0, n_estimators=50, n_jobs=None,\n",
       "                  oob_score=False, random_state=1, verbose=0, warm_start=False)"
      ]
     },
     "execution_count": 106,
     "metadata": {},
     "output_type": "execute_result"
    }
   ],
   "source": [
    "# 6 b) Bagging vs Naive Bayes\n",
    "bgcl = BaggingClassifier(base_estimator = model_NB, n_estimators = 50, random_state = 1)\n",
    "bgcl.fit(X_train, y_train)"
   ]
  },
  {
   "cell_type": "code",
   "execution_count": 107,
   "metadata": {},
   "outputs": [
    {
     "name": "stdout",
     "output_type": "stream",
     "text": [
      "0.8626726071981546\n",
      "0.8633883810085521\n"
     ]
    }
   ],
   "source": [
    "print(bgcl.score(X_train, y_train))\n",
    "print(bgcl.score(X_test, y_test))\n",
    "# A case of no overfitting as training sore is not 1.0\n",
    "# However, there is no improvement in accuracy scores for test data w.r.t. Naive Bayes"
   ]
  },
  {
   "cell_type": "code",
   "execution_count": 110,
   "metadata": {},
   "outputs": [
    {
     "name": "stdout",
     "output_type": "stream",
     "text": [
      "Classification Report\n",
      "              precision    recall  f1-score   support\n",
      "\n",
      "           1       0.24      0.97      0.38       581\n",
      "           0       1.00      0.86      0.92     12983\n",
      "\n",
      "    accuracy                           0.86     13564\n",
      "   macro avg       0.62      0.92      0.65     13564\n",
      "weighted avg       0.97      0.86      0.90     13564\n",
      "\n"
     ]
    }
   ],
   "source": [
    "y_pred_BG = bgcl.predict(X_test)\n",
    "print(\"Classification Report\")\n",
    "print(metrics.classification_report(y_test,y_pred_BG, labels = [1,0]))\n",
    "# Target column is not equally represented (581 vs 12983), hence class level metric becomes important\n",
    "# Precision went up by 0.01 while recall went down by 0.01; Keeping f1-score same\n",
    "# Hence, we can conclude that Ensemble technique has not added much value in this scenario"
   ]
  },
  {
   "cell_type": "code",
   "execution_count": 65,
   "metadata": {},
   "outputs": [
    {
     "name": "stdout",
     "output_type": "stream",
     "text": [
      "0.9584794767276519\n",
      "0.0867738130345031\n"
     ]
    }
   ],
   "source": [
    "# 6 c) Adaptive Boosting vs Naive Bayes\n",
    "# Accuracy of Ada has drastically gone down to 0.08 for the test data; We should try another model\n",
    "#abcl = AdaBoostClassifier(base_estimator = model_NB, n_estimators = 50, random_state = 1)\n",
    "#abcl.fit(X_train, y_train)\n",
    "#print(abcl.score(X_train, y_train))\n",
    "#print(abcl.score(X_test, y_test))"
   ]
  },
  {
   "cell_type": "code",
   "execution_count": 67,
   "metadata": {},
   "outputs": [
    {
     "name": "stdout",
     "output_type": "stream",
     "text": [
      "0.9645780010743514\n",
      "0.9638012385726924\n"
     ]
    }
   ],
   "source": [
    "# 6 c) Adaptive Boosting vs Logistic Regression\n",
    "# Accuracy of Ada has gone down marginally from 0.97 to 0.96 for the test data; Lets try with Decision trees once !\n",
    "#abcl = AdaBoostClassifier(base_estimator = model_LR, n_estimators = 50, random_state = 1)\n",
    "#abcl.fit(X_train, y_train)\n",
    "#print(abcl.score(X_train, y_train))\n",
    "#print(abcl.score(X_test, y_test))"
   ]
  },
  {
   "cell_type": "code",
   "execution_count": 112,
   "metadata": {},
   "outputs": [
    {
     "name": "stdout",
     "output_type": "stream",
     "text": [
      "0.9696653711252251\n",
      "0.9673400176938957\n"
     ]
    }
   ],
   "source": [
    "# 6 c) Adaptive Boosting vs Decision Trees\n",
    "# Best performance of Ada Boosting came only with Decision trees as it needs a simple model to built upon\n",
    "# A case of no overfitting as training score is not 1.0\n",
    "# Accuracy has gone up from 0.95 to 0.97 and even betterd the accuracy score obtained with Logistic Regression as the base\n",
    "abcl = AdaBoostClassifier(n_estimators = 50, random_state = 1)\n",
    "abcl.fit(X_train, y_train)\n",
    "print(abcl.score(X_train, y_train))\n",
    "print(abcl.score(X_test, y_test))"
   ]
  },
  {
   "cell_type": "code",
   "execution_count": 111,
   "metadata": {},
   "outputs": [
    {
     "name": "stdout",
     "output_type": "stream",
     "text": [
      "Classification Report\n",
      "              precision    recall  f1-score   support\n",
      "\n",
      "           1       0.67      0.47      0.55       581\n",
      "           0       0.98      0.99      0.98     12983\n",
      "\n",
      "    accuracy                           0.97     13564\n",
      "   macro avg       0.82      0.73      0.77     13564\n",
      "weighted avg       0.96      0.97      0.96     13564\n",
      "\n"
     ]
    }
   ],
   "source": [
    "y_pred_AB = abcl.predict(X_test)\n",
    "print(\"Classification Report\")\n",
    "print(metrics.classification_report(y_test,y_pred_AB, labels = [1,0]))\n",
    "# Target column is not equally represented (581 vs 12983), hence class level metric becomes important\n",
    "# Gains are clear in terms of precision, recall and f1 score w.r.t Decision tree"
   ]
  },
  {
   "cell_type": "code",
   "execution_count": 113,
   "metadata": {},
   "outputs": [
    {
     "data": {
      "text/plain": [
       "GradientBoostingClassifier(criterion='friedman_mse',\n",
       "                           init=LogisticRegression(C=1.0, class_weight=None,\n",
       "                                                   dual=False,\n",
       "                                                   fit_intercept=True,\n",
       "                                                   intercept_scaling=1,\n",
       "                                                   l1_ratio=None, max_iter=100,\n",
       "                                                   multi_class='warn',\n",
       "                                                   n_jobs=None, penalty='l2',\n",
       "                                                   random_state=None,\n",
       "                                                   solver='liblinear',\n",
       "                                                   tol=0.0001, verbose=0,\n",
       "                                                   warm_start=False),\n",
       "                           learning_rate=0.1, loss='deviance', max_depth=3,\n",
       "                           max_features=None, max_leaf_nodes=None,\n",
       "                           min_impurity_decrease=0.0, min_impurity_split=None,\n",
       "                           min_samples_leaf=1, min_samples_split=2,\n",
       "                           min_weight_fraction_leaf=0.0, n_estimators=50,\n",
       "                           n_iter_no_change=None, presort='auto',\n",
       "                           random_state=1, subsample=1.0, tol=0.0001,\n",
       "                           validation_fraction=0.1, verbose=0,\n",
       "                           warm_start=False)"
      ]
     },
     "execution_count": 113,
     "metadata": {},
     "output_type": "execute_result"
    }
   ],
   "source": [
    "# 6 d) Gradient Boosting vs Logistic Regression\n",
    "# We have built upon Decision trees & Naive Bayes as base estimators; Lets have one model with base as Logistic Regression\n",
    "gbcl = GradientBoostingClassifier(init = model_LR,n_estimators = 50, random_state = 1)\n",
    "gbcl.fit(X_train, y_train)"
   ]
  },
  {
   "cell_type": "code",
   "execution_count": 114,
   "metadata": {},
   "outputs": [
    {
     "name": "stdout",
     "output_type": "stream",
     "text": [
      "0.9713716939994312\n",
      "0.9670451194337953\n"
     ]
    }
   ],
   "source": [
    "print(gbcl.score(X_train, y_train))\n",
    "print(gbcl.score(X_test, y_test))\n",
    "# A case of no overfitting as training score is not 1.0\n",
    "# Accuracy score for the test set has improved just w.r.t. Logistic Regression from 0.965 to 0.967"
   ]
  },
  {
   "cell_type": "code",
   "execution_count": 116,
   "metadata": {},
   "outputs": [
    {
     "name": "stdout",
     "output_type": "stream",
     "text": [
      "Classification Report\n",
      "              precision    recall  f1-score   support\n",
      "\n",
      "           1       0.66      0.47      0.55       581\n",
      "           0       0.98      0.99      0.98     12983\n",
      "\n",
      "    accuracy                           0.97     13564\n",
      "   macro avg       0.82      0.73      0.77     13564\n",
      "weighted avg       0.96      0.97      0.96     13564\n",
      "\n"
     ]
    }
   ],
   "source": [
    "y_pred_GB = gbcl.predict(X_test)\n",
    "print(\"Classification Report\")\n",
    "print(metrics.classification_report(y_test,y_pred_GB, labels = [1,0]))\n",
    "# Target column is not equally represented (581 vs 12983), hence class level metric becomes important\n",
    "# Here, Gradient Boosting is a  clear winner in terms of recall and precision remains same; Hence, f1-score has gone up"
   ]
  },
  {
   "cell_type": "code",
   "execution_count": 115,
   "metadata": {},
   "outputs": [],
   "source": [
    "# 7) Obtain probabilities for all 7 models\n",
    "probas1_ = model_LR.fit(X_train, y_train).predict_proba(X_test) # Logistic Regression\n",
    "probas2_ = model_NB.fit(X_train, y_train).predict_proba(X_test) # Naive Bayes\n",
    "probas3_ = model_DT.fit(X_train, y_train).predict_proba(X_test) # Decision Trees\n",
    "probas4_ = rfcl.fit(X_train, y_train).predict_proba(X_test) # Random Forest\n",
    "probas5_ = bgcl.fit(X_train, y_train).predict_proba(X_test) # Bagging\n",
    "probas6_ = abcl.fit(X_train, y_train).predict_proba(X_test) # Adaptive Boosting\n",
    "probas7_ = gbcl.fit(X_train, y_train).predict_proba(X_test) # Gradient Boosting"
   ]
  },
  {
   "cell_type": "code",
   "execution_count": 75,
   "metadata": {},
   "outputs": [
    {
     "name": "stdout",
     "output_type": "stream",
     "text": [
      "Area under the ROC curve: 0.967852\n"
     ]
    }
   ],
   "source": [
    "# Compute ROC and area of the curve for Logistic\n",
    "fpr1, tpr1, thresholds1 = roc_curve(y_test, probas1_[:,1])\n",
    "roc_auc1 = auc(fpr1,tpr1)\n",
    "print(\"Area under the ROC curve: %f\" % roc_auc1)"
   ]
  },
  {
   "cell_type": "code",
   "execution_count": 76,
   "metadata": {},
   "outputs": [
    {
     "name": "stdout",
     "output_type": "stream",
     "text": [
      "Area under the ROC curve: 0.943268\n"
     ]
    }
   ],
   "source": [
    "# Compute ROC and area of the curve for Naive Bayes\n",
    "fpr2, tpr2, thresholds2 = roc_curve(y_test, probas2_[:,1])\n",
    "roc_auc2 = auc(fpr2,tpr2)\n",
    "print(\"Area under the ROC curve: %f\" % roc_auc2)"
   ]
  },
  {
   "cell_type": "code",
   "execution_count": 79,
   "metadata": {},
   "outputs": [
    {
     "name": "stdout",
     "output_type": "stream",
     "text": [
      "Area under the ROC curve: 0.722899\n"
     ]
    }
   ],
   "source": [
    "# Compute ROC and area of the curve for Decision Trees\n",
    "fpr3, tpr3, thresholds3 = roc_curve(y_test, probas3_[:,1])\n",
    "roc_auc3 = auc(fpr3,tpr3)\n",
    "print(\"Area under the ROC curve: %f\" % roc_auc3)"
   ]
  },
  {
   "cell_type": "code",
   "execution_count": 80,
   "metadata": {},
   "outputs": [
    {
     "name": "stdout",
     "output_type": "stream",
     "text": [
      "Area under the ROC curve: 0.969579\n"
     ]
    }
   ],
   "source": [
    "# Compute ROC and area of the curve for Random Forest\n",
    "fpr4, tpr4, thresholds4 = roc_curve(y_test, probas4_[:,1])\n",
    "roc_auc4 = auc(fpr4,tpr4)\n",
    "print(\"Area under the ROC curve: %f\" % roc_auc4)"
   ]
  },
  {
   "cell_type": "code",
   "execution_count": 95,
   "metadata": {},
   "outputs": [
    {
     "name": "stdout",
     "output_type": "stream",
     "text": [
      "Area under the ROC curve: 0.949307\n"
     ]
    }
   ],
   "source": [
    "# Compute ROC and area of the curve for Bagging\n",
    "fpr5, tpr5, thresholds5 = roc_curve(y_test, probas5_[:,1])\n",
    "roc_auc5 = auc(fpr5,tpr5)\n",
    "print(\"Area under the ROC curve: %f\" % roc_auc5)"
   ]
  },
  {
   "cell_type": "code",
   "execution_count": 82,
   "metadata": {},
   "outputs": [
    {
     "name": "stdout",
     "output_type": "stream",
     "text": [
      "Area under the ROC curve: 0.974258\n"
     ]
    }
   ],
   "source": [
    "# Compute ROC and area of the curve for Adaptive Boosting\n",
    "fpr6, tpr6, thresholds6 = roc_curve(y_test, probas6_[:,1])\n",
    "roc_auc6 = auc(fpr6,tpr6)\n",
    "print(\"Area under the ROC curve: %f\" % roc_auc6)"
   ]
  },
  {
   "cell_type": "code",
   "execution_count": 89,
   "metadata": {},
   "outputs": [
    {
     "name": "stdout",
     "output_type": "stream",
     "text": [
      "Area under the ROC curve: 0.972805\n"
     ]
    }
   ],
   "source": [
    "# Compute ROC and area of the curve for Gradient Boosting\n",
    "fpr7, tpr7, thresholds7 = roc_curve(y_test, probas7_[:,1])\n",
    "roc_auc7 = auc(fpr7,tpr7)\n",
    "print(\"Area under the ROC curve: %f\" % roc_auc7)"
   ]
  },
  {
   "cell_type": "code",
   "execution_count": 96,
   "metadata": {},
   "outputs": [
    {
     "data": {
      "image/png": "[encoded data removed]",
      "text/plain": [
       "<Figure size 432x288 with 1 Axes>"
      ]
     },
     "metadata": {
      "needs_background": "light"
     },
     "output_type": "display_data"
    }
   ],
   "source": [
    "# Plot the ROC\n",
    "# Plot the ROC curve\n",
    "pl.clf()\n",
    "pl.plot(fpr1,tpr1,label = 'ROC curve for logistic (area = %0.2f)' % roc_auc1)\n",
    "pl.plot(fpr2,tpr2,label = 'ROC curve for Naive Bayes (area = %0.2f)' % roc_auc2)\n",
    "pl.plot(fpr3,tpr3,label = 'ROC curve for Decision Trees (area = %0.2f)' % roc_auc3)\n",
    "pl.plot(fpr4,tpr4,label = 'ROC curve for Random Forest (area = %0.2f)' % roc_auc4)\n",
    "pl.plot(fpr5,tpr5,label = 'ROC curve for Bagging (area = %0.2f)' % roc_auc5)\n",
    "pl.plot(fpr6,tpr6,label = 'ROC curve for Ada Boosting (area = %0.2f)' % roc_auc6)\n",
    "pl.plot(fpr7,tpr7,label = 'ROC curve for Gradient Boosting (area = %0.2f)' % roc_auc7)\n",
    "pl.plot([0, 1], [0, 1], 'k--')\n",
    "pl.xlim([0.0, 1.0])\n",
    "pl.ylim([0.0, 1.0])\n",
    "pl.xlabel('False Positive Rate')\n",
    "pl.ylabel('True Positive Rate')\n",
    "pl.title('Receiverrating characteristic example')\n",
    "pl.legend(loc=\"lower right\")\n",
    "pl.show()"
   ]
  },
  {
   "cell_type": "code",
   "execution_count": null,
   "metadata": {},
   "outputs": [],
   "source": [
    "# We can see high AUC values for Ensemble models such as Random Forest, Ada Boosting and Gradient Boosting\n",
    "# Bagging is better than its base i.e. Naive Bayes but lagging behind as the base model may not be complex\n",
    "# Area under curve with bagging may improve with a complex decision tree\n",
    "# In terms of standard classification models, Logistic Regression stands out w.r.t. Naive Bayes and Decision Tree models\n",
    "# Overall, Ada Boosting has the highest score and is the best model for the case in hand"
   ]
  }
 ],
 "metadata": {
  "kernelspec": {
   "display_name": "Python 3",
   "language": "python",
   "name": "python3"
  },
  "language_info": {
   "codemirror_mode": {
    "name": "ipython",
    "version": 3
   },
   "file_extension": ".py",
   "mimetype": "text/x-python",
   "name": "python",
   "nbconvert_exporter": "python",
   "pygments_lexer": "ipython3",
   "version": "3.7.3"
  }
 },
 "nbformat": 4,
 "nbformat_minor": 2
}
